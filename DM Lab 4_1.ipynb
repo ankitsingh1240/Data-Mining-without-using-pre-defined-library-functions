{
 "cells": [
  {
   "cell_type": "code",
   "execution_count": 32,
   "metadata": {},
   "outputs": [],
   "source": [
    "import numpy as np\n",
    "import pandas as pd\n",
    "import random\n",
    "import itertools"
   ]
  },
  {
   "cell_type": "code",
   "execution_count": 33,
   "metadata": {},
   "outputs": [
    {
     "name": "stdout",
     "output_type": "stream",
     "text": [
      "Enter the number of transactions to be generated: 5\n",
      "Enter the minimum support value:0.5\n",
      "-------------------------------- Transactions-----------------------------------------------\n",
      "\n",
      "['bread', 'milk'] \n",
      "\n",
      "['bread', 'diaper', 'beer', 'coke', 'milk'] \n",
      "\n",
      "['diaper', 'bread', 'milk', 'coke', 'eggs', 'beer'] \n",
      "\n",
      "['bread', 'beer', 'diaper', 'milk', 'coke'] \n",
      "\n",
      "['eggs', 'bread', 'beer', 'diaper'] \n",
      "\n",
      "-------------------------------- Transaction Matrix -------------------------------------\n",
      "\n",
      "   bread  milk  diaper  beer  eggs  coke\n",
      "0      1     1       0     0     0     0\n",
      "1      1     1       1     1     0     1\n",
      "2      1     1       1     1     1     1\n",
      "3      1     1       1     1     0     1\n",
      "4      1     0       1     1     1     0\n"
     ]
    }
   ],
   "source": [
    "items = ['bread', 'milk', 'diaper', 'beer', 'eggs', 'coke']\n",
    "n = int(input('Enter the number of transactions to be generated: '))\n",
    "threshold = float(input('Enter the minimum support value:'))\n",
    "\n",
    "tr = []\n",
    "\n",
    "for i in range(n):\n",
    "    tr.append(random.sample(items,random.randint(1, len(items))))\n",
    "\n",
    "print('-------------------------------- Transactions-----------------------------------------------\\n')\n",
    "\n",
    "for i in tr:\n",
    "    print(i,'\\n')\n",
    "\n",
    "trans = []\n",
    "\n",
    "#items = list(set(items))\n",
    "\n",
    "for i in range(len(tr)):\n",
    "    #print(\"sgdafj\")\n",
    "    trans.append([])\n",
    "    te = tr[i]\n",
    "    for k in items:\n",
    "        if k in te:\n",
    "            trans[i].append(1)\n",
    "        else:\n",
    "            trans[i].append(0)\n",
    "\n",
    "#print(trans)\n",
    "print(\"-------------------------------- Transaction Matrix -------------------------------------\\n\")                \n",
    "transaction_matrix = pd.DataFrame(data=trans, columns=items)\n",
    "print(transaction_matrix)\n"
   ]
  },
  {
   "cell_type": "markdown",
   "metadata": {},
   "source": [
    "# Using a toy dataset"
   ]
  },
  {
   "cell_type": "code",
   "execution_count": 55,
   "metadata": {},
   "outputs": [
    {
     "name": "stdout",
     "output_type": "stream",
     "text": [
      "chocolate candy coke mango peanut\n",
      "\n",
      "pen luggage comforter bag cap detergent towel \n",
      "\n",
      "chocolate pen candy luggage \n",
      "\n",
      "chococate candy coke \n",
      "\n",
      "pen luggage comforter bag\n",
      "\n",
      "chocolate candy coke mango\n",
      "\n",
      "pen luggage comforter bag cap \n",
      "\n",
      "pen luggage comforter bag cap detergent \n",
      "\n",
      "pen luggage comforter\n",
      "\n",
      "candy mango luggage bag\n",
      "\n",
      "coke peanut detergent towel\n",
      "\n",
      "mango pen comforter cap\n",
      "\n",
      "bag cap towel peanut\n",
      "\n",
      "pen luggage comforter chocolate candy\n",
      "\n",
      "pen luggage comforter mango peanut\n",
      "\n",
      "comforter bag cap candy coke mango\n",
      "\n",
      "peanut candy cap towel\n",
      "\n",
      "pen peanut comforter chocolate \n",
      "\n",
      "pen peanut comforter chocolate cap candy\n",
      "\n",
      "chocolate peanut mango luggage bag towel detergent \n",
      "\n"
     ]
    }
   ],
   "source": [
    "data = open(\"transations.txt\")\n",
    "with data as d:\n",
    "    for line in d:\n",
    "        print(line)"
   ]
  },
  {
   "cell_type": "code",
   "execution_count": 34,
   "metadata": {},
   "outputs": [
    {
     "name": "stdout",
     "output_type": "stream",
     "text": [
      "Please enter support value in %: 50\n",
      "Please enter confidence value in %: 50\n"
     ]
    }
   ],
   "source": [
    "support = int(input(\"Please enter support value in %: \"))\n",
    "confidence = int(input(\"Please enter confidence value in %: \"))"
   ]
  },
  {
   "cell_type": "code",
   "execution_count": 35,
   "metadata": {},
   "outputs": [
    {
     "name": "stdout",
     "output_type": "stream",
     "text": [
      "[['chocolate', 'candy', 'coke', 'mango', 'peanut'], ['pen', 'luggage', 'comforter', 'bag', 'cap', 'detergent', 'towel'], ['chocolate', 'pen', 'candy', 'luggage'], ['chococate', 'candy', 'coke'], ['pen', 'luggage', 'comforter', 'bag'], ['chocolate', 'candy', 'coke', 'mango'], ['pen', 'luggage', 'comforter', 'bag', 'cap'], ['pen', 'luggage', 'comforter', 'bag', 'cap', 'detergent'], ['pen', 'luggage', 'comforter'], ['candy', 'mango', 'luggage', 'bag'], ['coke', 'peanut', 'detergent', 'towel'], ['mango', 'pen', 'comforter', 'cap'], ['bag', 'cap', 'towel', 'peanut'], ['pen', 'luggage', 'comforter', 'chocolate', 'candy'], ['pen', 'luggage', 'comforter', 'mango', 'peanut'], ['comforter', 'bag', 'cap', 'candy', 'coke', 'mango'], ['peanut', 'candy', 'cap', 'towel'], ['pen', 'peanut', 'comforter', 'chocolate'], ['pen', 'peanut', 'comforter', 'chocolate', 'cap', 'candy'], ['chocolate', 'peanut', 'mango', 'luggage', 'bag', 'towel', 'detergent']]\n"
     ]
    }
   ],
   "source": [
    "C1 = {}\n",
    "transactions = 0\n",
    "D = []\n",
    "T = []\n",
    "with open(\"transations.txt\", \"r\") as f:\n",
    "    for line in f:\n",
    "        T = []\n",
    "        transactions += 1\n",
    "        for word in line.split():\n",
    "            T.append(word)\n",
    "            if word not in C1.keys():\n",
    "                C1[word] = 1\n",
    "            else:\n",
    "                count = C1[word]\n",
    "                C1[word] = count + 1\n",
    "        D.append(T)\n",
    "print(D)"
   ]
  },
  {
   "cell_type": "code",
   "execution_count": 49,
   "metadata": {},
   "outputs": [
    {
     "name": "stdout",
     "output_type": "stream",
     "text": [
      "FREQUENT 1-ITEMSET\n",
      "[['pen'], ['luggage'], ['comforter']]\n"
     ]
    }
   ],
   "source": [
    "# frequent set of length 1\n",
    "L1 = []\n",
    "for key in C1:\n",
    "    if (100 * C1[key]/transactions) >= support:\n",
    "        list = []\n",
    "        list.append(key)\n",
    "        L1.append(list)\n",
    "print( 'FREQUENT 1-ITEMSET')\n",
    "print(L1)"
   ]
  },
  {
   "cell_type": "code",
   "execution_count": 50,
   "metadata": {},
   "outputs": [],
   "source": [
    "def apriori(Lk_1, k):\n",
    "    length = k\n",
    "    Ck = [] \n",
    "    for list1 in Lk_1:\n",
    "        for list2 in Lk_1:\n",
    "            count = 0\n",
    "            c = []\n",
    "            if list1 != list2:\n",
    "                while count < length-1:\n",
    "                    if list1[count] != list2[count]:\n",
    "                        break\n",
    "                    else:\n",
    "                        count += 1\n",
    "                else:\n",
    "                    if list1[length-1] < list2[length-1]:\n",
    "                        for item in list1:\n",
    "                            c.append(item)\n",
    "                        c.append(list2[length-1])\n",
    "                        if not has_infrequent_subset(c, Lk_1, k):\n",
    "                            Ck.append(c) \n",
    "                            c = []\n",
    "    return Ck"
   ]
  },
  {
   "cell_type": "code",
   "execution_count": 51,
   "metadata": {},
   "outputs": [],
   "source": [
    "def candidateSet(S,m):\n",
    "    return set(itertools.combinations(S, m))\n",
    "\n",
    "def has_infrequent_subset(c, Lk_1, k):\n",
    "    list = []\n",
    "    list = candidateSet(c,k)\n",
    "    for item in list: \n",
    "        s = []\n",
    "        for l in item:\n",
    "            s.append(l)\n",
    "        s.sort()\n",
    "        if s not in Lk_1:\n",
    "            return True\n",
    "    return False\n"
   ]
  },
  {
   "cell_type": "code",
   "execution_count": 52,
   "metadata": {},
   "outputs": [],
   "source": [
    "def frequentItemsets():\n",
    "    k = 2\n",
    "    Lk_1 = []\n",
    "    Lk = []\n",
    "    L = []\n",
    "    count = 0\n",
    "    transactions = 0\n",
    "    for item in L1:\n",
    "        Lk_1.append(item)\n",
    "    while Lk_1 != []:\n",
    "        Ck = []\n",
    "        Lk = []\n",
    "        Ck = apriori(Lk_1, k-1)\n",
    "        #print \"CANDIDATE %d-ITEMSET\" % k\n",
    "        #print \"Ck: %s\" % Ck\n",
    "        for c in Ck:\n",
    "            count = 0\n",
    "            transactions = 0\n",
    "            s = set(c)\n",
    "            for T in D:\n",
    "                transactions += 1\n",
    "                t = set(T)\n",
    "                if s.issubset(t) == True:\n",
    "                    count += 1\n",
    "            if (100 * count/transactions) >= support:\n",
    "                c.sort()\n",
    "                Lk.append(c)\n",
    "        Lk_1 = []\n",
    "        print(\"FREQUENT %d-ITEMSET\" % k)\n",
    "        print(Lk)\n",
    "        for l in Lk:\n",
    "            Lk_1.append(l)\n",
    "        k += 1\n",
    "        if Lk != []:\n",
    "            L.append(Lk)\n",
    "    \n",
    "    return L"
   ]
  },
  {
   "cell_type": "code",
   "execution_count": 53,
   "metadata": {},
   "outputs": [
    {
     "name": "stdout",
     "output_type": "stream",
     "text": [
      "FREQUENT 2-ITEMSET\n",
      "[['comforter', 'pen']]\n",
      "FREQUENT 3-ITEMSET\n",
      "[]\n",
      "ASSOCIATION RULES:\n",
      "RULES \t \t \t \t   SUPPORT  CONFIDENCE\n",
      "Rule  1 : ['pen'] --> ['comforter']     50     90\n",
      "Rule  2 : ['comforter'] --> ['pen']     50     90\n"
     ]
    }
   ],
   "source": [
    "def associationRuleGen():\n",
    "    s = []\n",
    "    r = []\n",
    "    length = 0\n",
    "    count = 1\n",
    "    inc1 = 0\n",
    "    inc2 = 0\n",
    "    num = 1\n",
    "    m = []\n",
    "    L= frequentItemsets()\n",
    "    print('ASSOCIATION RULES:')\n",
    "    print(\"RULES \\t \\t \\t \\t   SUPPORT  CONFIDENCE\")\n",
    "    for list in L:\n",
    "        for l in list:\n",
    "            length = len(l)\n",
    "            count = 1\n",
    "            while count < length: \n",
    "                s = []\n",
    "                r = candidateSet(l,count)\n",
    "                count += 1\n",
    "                for item in r:\n",
    "                    inc1 = 0\n",
    "                    inc2 = 0\n",
    "                    s = []\n",
    "                    m = []\n",
    "                    for i in item:\n",
    "                        s.append(i)\n",
    "                    for T in D:\n",
    "                        if set(s).issubset(set(T)) == True:\n",
    "                            inc1 += 1\n",
    "                        if set(l).issubset(set(T)) == True:\n",
    "                            inc2 += 1\n",
    "                    if 100*inc2/inc1 >= confidence:\n",
    "                        for index in l:\n",
    "                            if index not in s:\n",
    "                                m.append(index)\n",
    "                        print(\"Rule  %d : %s --> %s     %d     %d\" %(num, s, m, 100*inc2/len(D), 100*inc2/inc1))\n",
    "                        num += 1  \n",
    "\n",
    "associationRuleGen()"
   ]
  },
  {
   "cell_type": "code",
   "execution_count": null,
   "metadata": {},
   "outputs": [],
   "source": []
  }
 ],
 "metadata": {
  "kernelspec": {
   "display_name": "Python 3",
   "language": "python",
   "name": "python3"
  },
  "language_info": {
   "codemirror_mode": {
    "name": "ipython",
    "version": 3
   },
   "file_extension": ".py",
   "mimetype": "text/x-python",
   "name": "python",
   "nbconvert_exporter": "python",
   "pygments_lexer": "ipython3",
   "version": "3.6.5"
  }
 },
 "nbformat": 4,
 "nbformat_minor": 2
}
